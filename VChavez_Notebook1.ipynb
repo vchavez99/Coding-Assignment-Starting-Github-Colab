{
  "nbformat": 4,
  "nbformat_minor": 0,
  "metadata": {
    "colab": {
      "name": "VChavez_Notebook1.ipynb",
      "provenance": [],
      "authorship_tag": "ABX9TyN9M8jyVc9/WF3lFibJwMre",
      "include_colab_link": true
    },
    "kernelspec": {
      "name": "python3",
      "display_name": "Python 3"
    }
  },
  "cells": [
    {
      "cell_type": "markdown",
      "metadata": {
        "id": "view-in-github",
        "colab_type": "text"
      },
      "source": [
        "<a href=\"https://colab.research.google.com/github/vchavez99/Coding-Assignment-Starting-Github-Colab/blob/main/VChavez_Notebook1.ipynb\" target=\"_parent\"><img src=\"https://colab.research.google.com/assets/colab-badge.svg\" alt=\"Open In Colab\"/></a>"
      ]
    },
    {
      "cell_type": "markdown",
      "metadata": {
        "id": "-PWiHq189I5x"
      },
      "source": [
        "##**This is my Notebook for the \"Coding Assignment: Starting Github + Colab\"**##\n",
        "\n",
        "\n"
      ]
    },
    {
      "cell_type": "code",
      "metadata": {
        "colab": {
          "base_uri": "https://localhost:8080/"
        },
        "id": "06wtmRTFLOg4",
        "outputId": "0115859e-a96e-4d25-da85-baa2e291e8c6"
      },
      "source": [
        "#I'm not very creative so I will use the same code Prof Roberts used in his \"nifty sample notebook\"\n",
        "for i in range(10):\n",
        "  print(\"Github + Collab will make me unstoppable.\")"
      ],
      "execution_count": null,
      "outputs": [
        {
          "output_type": "stream",
          "text": [
            "Github + Collab will make me unstoppable.\n",
            "Github + Collab will make me unstoppable.\n",
            "Github + Collab will make me unstoppable.\n",
            "Github + Collab will make me unstoppable.\n",
            "Github + Collab will make me unstoppable.\n",
            "Github + Collab will make me unstoppable.\n",
            "Github + Collab will make me unstoppable.\n",
            "Github + Collab will make me unstoppable.\n",
            "Github + Collab will make me unstoppable.\n",
            "Github + Collab will make me unstoppable.\n"
          ],
          "name": "stdout"
        }
      ]
    }
  ]
}